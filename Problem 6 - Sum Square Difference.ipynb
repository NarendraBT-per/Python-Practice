{
 "cells": [
  {
   "cell_type": "code",
   "execution_count": 6,
   "metadata": {},
   "outputs": [
    {
     "name": "stdout",
     "output_type": "stream",
     "text": [
      "338350\n",
      "25502500\n",
      "25164150\n"
     ]
    }
   ],
   "source": [
    "def sum_of_sqaures(n):\n",
    "    number_list = []\n",
    "    \n",
    "    for i in range(1,n+1):\n",
    "        number_list.append(i*i)\n",
    "    \n",
    "    return sum(number_list)\n",
    "\n",
    "def square_of_sum(n):\n",
    "    number_list = []\n",
    "    \n",
    "    for i in range(1,n+1):\n",
    "        number_list.append(i)\n",
    "        \n",
    "    return sum(number_list)**2\n",
    "\n",
    "a = sum_of_sqaures(100)\n",
    "print(a)\n",
    "b = square_of_sum(100)\n",
    "print(b)\n",
    "\n",
    "c = b - a\n",
    "print(c)"
   ]
  },
  {
   "cell_type": "code",
   "execution_count": null,
   "metadata": {},
   "outputs": [],
   "source": []
  }
 ],
 "metadata": {
  "kernelspec": {
   "display_name": "Python 3",
   "language": "python",
   "name": "python3"
  },
  "language_info": {
   "codemirror_mode": {
    "name": "ipython",
    "version": 3
   },
   "file_extension": ".py",
   "mimetype": "text/x-python",
   "name": "python",
   "nbconvert_exporter": "python",
   "pygments_lexer": "ipython3",
   "version": "3.7.4"
  }
 },
 "nbformat": 4,
 "nbformat_minor": 2
}
