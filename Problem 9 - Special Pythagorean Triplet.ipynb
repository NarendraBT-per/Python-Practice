{
 "cells": [
  {
   "cell_type": "code",
   "execution_count": 2,
   "metadata": {},
   "outputs": [
    {
     "name": "stdout",
     "output_type": "stream",
     "text": [
      "200 375 425\n",
      "31875000\n",
      "375 200 425\n",
      "31875000\n"
     ]
    }
   ],
   "source": [
    "def check_pythagoreans(a, b, c):\n",
    "    return a**2 + b**2 == c**2\n",
    "\n",
    "n = 1000\n",
    "\n",
    "for i in range(1, n):\n",
    "    for j in range(1, n):\n",
    "        k = n - i - j\n",
    "        if check_pythagoreans(i, j, k):\n",
    "            print(i, j, k)\n",
    "            print(i*j*k)"
   ]
  },
  {
   "cell_type": "code",
   "execution_count": null,
   "metadata": {},
   "outputs": [],
   "source": []
  }
 ],
 "metadata": {
  "kernelspec": {
   "display_name": "Python 3",
   "language": "python",
   "name": "python3"
  },
  "language_info": {
   "codemirror_mode": {
    "name": "ipython",
    "version": 3
   },
   "file_extension": ".py",
   "mimetype": "text/x-python",
   "name": "python",
   "nbconvert_exporter": "python",
   "pygments_lexer": "ipython3",
   "version": "3.7.4"
  }
 },
 "nbformat": 4,
 "nbformat_minor": 2
}
