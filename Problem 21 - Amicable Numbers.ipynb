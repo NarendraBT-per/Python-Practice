{
 "cells": [
  {
   "cell_type": "code",
   "execution_count": 3,
   "metadata": {},
   "outputs": [],
   "source": [
    "def amicable_numbers(n):\n",
    "    '''Let d(n) be defined as the sum of proper divisors of n (numbers less than n which divide evenly into n).\n",
    "If d(a) = b and d(b) = a, where a ≠ b, then a and b are an amicable pair and each of a and b are called amicable numbers.\n",
    "\n",
    "For example, the proper divisors of 220 are 1, 2, 4, 5, 10, 11, 20, 22, 44, 55 and 110;\n",
    "therefore d(220) = 284. The proper divisors of 284 are 1, 2, 4, 71 and 142; so d(284) = 220.\n",
    "\n",
    "Evaluate the sum of all the amicable numbers under 10000.'''\n",
    "    \n",
    "    x = 0\n",
    "    \n",
    "    anum = []\n",
    "    \n",
    "    for i in range(1, n+1):\n",
    "        if n%i == 0:\n",
    "            if i < n:\n",
    "                x += i\n",
    "                #print(i)\n",
    "    return x"
   ]
  },
  {
   "cell_type": "code",
   "execution_count": 19,
   "metadata": {},
   "outputs": [
    {
     "name": "stdout",
     "output_type": "stream",
     "text": [
      "6\n",
      "28\n",
      "220\n",
      "284\n",
      "496\n",
      "1184\n",
      "1210\n",
      "2620\n",
      "2924\n",
      "5020\n",
      "5564\n",
      "6232\n",
      "6368\n",
      "8128\n"
     ]
    }
   ],
   "source": [
    "a= []\n",
    "b = []\n",
    "\n",
    "for i in range(1, 10001):\n",
    "    x = amicable_numbers(i)\n",
    "    if i == amicable_numbers(x):\n",
    "        print(i)\n",
    "        a.append(i)\n",
    "#print(sum(a))"
   ]
  },
  {
   "cell_type": "code",
   "execution_count": 18,
   "metadata": {},
   "outputs": [
    {
     "data": {
      "text/plain": [
       "8128"
      ]
     },
     "execution_count": 18,
     "metadata": {},
     "output_type": "execute_result"
    }
   ],
   "source": [
    "amicable_numbers(8128)"
   ]
  },
  {
   "cell_type": "code",
   "execution_count": null,
   "metadata": {},
   "outputs": [],
   "source": []
  }
 ],
 "metadata": {
  "kernelspec": {
   "display_name": "Python 3",
   "language": "python",
   "name": "python3"
  },
  "language_info": {
   "codemirror_mode": {
    "name": "ipython",
    "version": 3
   },
   "file_extension": ".py",
   "mimetype": "text/x-python",
   "name": "python",
   "nbconvert_exporter": "python",
   "pygments_lexer": "ipython3",
   "version": "3.7.4"
  }
 },
 "nbformat": 4,
 "nbformat_minor": 2
}
