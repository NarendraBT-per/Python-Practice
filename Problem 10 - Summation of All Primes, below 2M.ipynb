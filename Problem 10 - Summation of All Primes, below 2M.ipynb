{
 "cells": [
  {
   "cell_type": "markdown",
   "metadata": {},
   "source": [
    "### Incorrect Method"
   ]
  },
  {
   "cell_type": "code",
   "execution_count": 115,
   "metadata": {},
   "outputs": [],
   "source": [
    "def prime(n):\n",
    "    \n",
    "    nums = []\n",
    "    x = 3\n",
    "    \n",
    "    while x <= n:\n",
    "        for y in range(3,x):\n",
    "            if x%y == 0:\n",
    "                x += 2\n",
    "                break\n",
    "        else:\n",
    "            #nums.append(x)\n",
    "            yield x\n",
    "            x += 2\n",
    "    #return nums"
   ]
  },
  {
   "cell_type": "code",
   "execution_count": 118,
   "metadata": {},
   "outputs": [
    {
     "data": {
      "text/plain": [
       "3"
      ]
     },
     "execution_count": 118,
     "metadata": {},
     "output_type": "execute_result"
    }
   ],
   "source": [
    "next(prime(10))"
   ]
  },
  {
   "cell_type": "markdown",
   "metadata": {},
   "source": [
    "### Solution"
   ]
  },
  {
   "cell_type": "code",
   "execution_count": 136,
   "metadata": {},
   "outputs": [
    {
     "name": "stdout",
     "output_type": "stream",
     "text": [
      "The sum of all primes below 2 million is: 142913828922\n"
     ]
    }
   ],
   "source": [
    "import math\n",
    " \n",
    "# isPrime function - returns True or False\n",
    "def isPrime(num):\n",
    "    # Iterates from 2 to sqrt(num)+1 as discussed in #7\n",
    "    # Make sure to convert sqrt to int for range\n",
    "    # Using xrange will save considerable time for large numbers\n",
    "    for i in range(2,int(math.sqrt(num))+1):\n",
    "        if (num % i == 0):\n",
    "            return False\n",
    " \n",
    "    return True\n",
    " \n",
    "sum = 0\n",
    " \n",
    "# Iterate from 2 to two million\n",
    "# You can increase speed slightly by starting at 3 and\n",
    "#  iterating by 2 to skip evens but only saves 0.5s\n",
    "for i in range(2,2000000):\n",
    "    # If number is prime, add to sum\n",
    "    if isPrime(i):\n",
    "        sum += i\n",
    " \n",
    "# Print out results\n",
    "print('The sum of all primes below 2 million is: ' + str(sum))"
   ]
  },
  {
   "cell_type": "code",
   "execution_count": 170,
   "metadata": {},
   "outputs": [
    {
     "name": "stdout",
     "output_type": "stream",
     "text": [
      "142913828922\n"
     ]
    }
   ],
   "source": [
    "import math\n",
    "def sum_of_primes(n):\n",
    "    x = 3\n",
    "    \n",
    "    while x<n:\n",
    "        for y in range(3,int(math.sqrt(x)+1)):\n",
    "            if x%y==0:\n",
    "                x += 2\n",
    "                break\n",
    "        else:\n",
    "            yield x\n",
    "            x += 2\n",
    "            \n",
    "            \n",
    "sum = 0\n",
    "for i in sum_of_primes(2000000):\n",
    "    sum += i\n",
    "print(sum+2)"
   ]
  },
  {
   "cell_type": "code",
   "execution_count": null,
   "metadata": {},
   "outputs": [],
   "source": []
  }
 ],
 "metadata": {
  "kernelspec": {
   "display_name": "Python 3",
   "language": "python",
   "name": "python3"
  },
  "language_info": {
   "codemirror_mode": {
    "name": "ipython",
    "version": 3
   },
   "file_extension": ".py",
   "mimetype": "text/x-python",
   "name": "python",
   "nbconvert_exporter": "python",
   "pygments_lexer": "ipython3",
   "version": "3.8.3"
  }
 },
 "nbformat": 4,
 "nbformat_minor": 4
}
