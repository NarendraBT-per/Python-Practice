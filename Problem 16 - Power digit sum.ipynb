{
 "cells": [
  {
   "cell_type": "code",
   "execution_count": 93,
   "metadata": {},
   "outputs": [],
   "source": [
    "def power_digit_sum(n):\n",
    "    # To append the power of n as a string in the list - num\n",
    "    num = []\n",
    "    \n",
    "    # To calculate power of 2\n",
    "    power = 2**n\n",
    "    \n",
    "    # Required for auxilary calculation\n",
    "    a=0\n",
    "    \n",
    "    # appending the int as str in list(num)\n",
    "    num.append(str(power))\n",
    "    \n",
    "    \n",
    "    for i in num:\n",
    "        for j in str(i):\n",
    "            a += int(j)\n",
    "        return a"
   ]
  },
  {
   "cell_type": "code",
   "execution_count": 92,
   "metadata": {},
   "outputs": [
    {
     "data": {
      "text/plain": [
       "1366"
      ]
     },
     "execution_count": 92,
     "metadata": {},
     "output_type": "execute_result"
    }
   ],
   "source": [
    "power_digit_sum(1000)"
   ]
  },
  {
   "cell_type": "code",
   "execution_count": null,
   "metadata": {},
   "outputs": [],
   "source": []
  }
 ],
 "metadata": {
  "kernelspec": {
   "display_name": "Python 3",
   "language": "python",
   "name": "python3"
  },
  "language_info": {
   "codemirror_mode": {
    "name": "ipython",
    "version": 3
   },
   "file_extension": ".py",
   "mimetype": "text/x-python",
   "name": "python",
   "nbconvert_exporter": "python",
   "pygments_lexer": "ipython3",
   "version": "3.7.4"
  }
 },
 "nbformat": 4,
 "nbformat_minor": 2
}
