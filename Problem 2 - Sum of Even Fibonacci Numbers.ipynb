{
 "cells": [
  {
   "cell_type": "code",
   "execution_count": 60,
   "metadata": {},
   "outputs": [],
   "source": [
    "# Fibonacci Numbers\n",
    "def fibonacci(n):\n",
    "    \n",
    "    a = 0\n",
    "    b = 1\n",
    "    fibo = []\n",
    "    even_fibo = []\n",
    "    \n",
    "    for i in range(n):\n",
    "        result = a+b\n",
    "        fibo.append(result)\n",
    "        \n",
    "        a, b = b, result\n",
    "        \n",
    "    #print(fibo)\n",
    "    \n",
    "    for i in fibo:\n",
    "        if i%2 == 0 and i<4000000:\n",
    "            even_fibo.append(i)\n",
    "            \n",
    "    #print(even_fibo)\n",
    "    #print(sum(even_fibo))\n",
    "    return sum(even_fibo)"
   ]
  },
  {
   "cell_type": "code",
   "execution_count": 61,
   "metadata": {},
   "outputs": [
    {
     "data": {
      "text/plain": [
       "4613732"
      ]
     },
     "execution_count": 61,
     "metadata": {},
     "output_type": "execute_result"
    }
   ],
   "source": [
    "fibonacci(100)"
   ]
  },
  {
   "cell_type": "markdown",
   "metadata": {},
   "source": [
    "#### Solution 1"
   ]
  },
  {
   "cell_type": "code",
   "execution_count": 3,
   "metadata": {},
   "outputs": [
    {
     "name": "stdout",
     "output_type": "stream",
     "text": [
      "1089154\n"
     ]
    }
   ],
   "source": [
    "def fib():\n",
    "    x,y = 0,1\n",
    "    while True:\n",
    "        yield x\n",
    "        x,y = y, x+y\n",
    "\n",
    "def even(seq):\n",
    "    for number in seq:\n",
    "        if not number % 2:\n",
    "            yield number\n",
    "\n",
    "def under_a_million(seq):\n",
    "    for number in seq:\n",
    "        if number > 1000000:\n",
    "            break\n",
    "        yield number   \n",
    "\n",
    "print(sum(even(under_a_million(fib()))))"
   ]
  },
  {
   "cell_type": "markdown",
   "metadata": {},
   "source": [
    "#### Solution 2"
   ]
  },
  {
   "cell_type": "code",
   "execution_count": 4,
   "metadata": {},
   "outputs": [
    {
     "name": "stdout",
     "output_type": "stream",
     "text": [
      "1089154\n"
     ]
    }
   ],
   "source": [
    "import itertools\n",
    "\n",
    "def fib():\n",
    "    x,y = 0,1\n",
    "    while True:\n",
    "        yield x \n",
    "        x,y = y, x+y\n",
    "\n",
    "print(sum(x for x in itertools.takewhile(lambda x: x <= 1000000, fib()) if x % 2 == 0))"
   ]
  },
  {
   "cell_type": "code",
   "execution_count": null,
   "metadata": {},
   "outputs": [],
   "source": []
  }
 ],
 "metadata": {
  "kernelspec": {
   "display_name": "Python 3",
   "language": "python",
   "name": "python3"
  },
  "language_info": {
   "codemirror_mode": {
    "name": "ipython",
    "version": 3
   },
   "file_extension": ".py",
   "mimetype": "text/x-python",
   "name": "python",
   "nbconvert_exporter": "python",
   "pygments_lexer": "ipython3",
   "version": "3.8.3"
  }
 },
 "nbformat": 4,
 "nbformat_minor": 4
}
