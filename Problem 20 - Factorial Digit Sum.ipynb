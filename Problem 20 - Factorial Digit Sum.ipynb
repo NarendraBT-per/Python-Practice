{
 "cells": [
  {
   "cell_type": "code",
   "execution_count": 7,
   "metadata": {},
   "outputs": [],
   "source": [
    "def value(n):\n",
    "    \n",
    "    # For storing real number upto n\n",
    "    numlist = []\n",
    "    \n",
    "    # For substitution and switching values for the multiplication ans from numlist\n",
    "    prod = 0\n",
    "    temp = 1\n",
    "    \n",
    "    # For individualy adding the digits of the final product, obtained from above parameters\n",
    "    add = 0\n",
    "    acc = 0\n",
    "    ans = []\n",
    "    \n",
    "    # Appending each number upto 'n'\n",
    "    for i in range(1, n+1):\n",
    "        # Considering this list a factorial of n\n",
    "        numlist.append(i)\n",
    "        \n",
    "    # Multiplying each numbers in the list    \n",
    "    for j in numlist:\n",
    "        prod = j\n",
    "        temp = temp * prod\n",
    "    \n",
    "    # Converting the final product into srting and then spliting it each interger and summing the value\n",
    "    for i in str(temp):\n",
    "        add = i\n",
    "        acc += int(add)\n",
    "        \n",
    "    return acc"
   ]
  },
  {
   "cell_type": "code",
   "execution_count": 9,
   "metadata": {},
   "outputs": [
    {
     "data": {
      "text/plain": [
       "648"
      ]
     },
     "execution_count": 9,
     "metadata": {},
     "output_type": "execute_result"
    }
   ],
   "source": [
    "value(100)"
   ]
  },
  {
   "cell_type": "code",
   "execution_count": null,
   "metadata": {},
   "outputs": [],
   "source": []
  }
 ],
 "metadata": {
  "kernelspec": {
   "display_name": "Python 3",
   "language": "python",
   "name": "python3"
  },
  "language_info": {
   "codemirror_mode": {
    "name": "ipython",
    "version": 3
   },
   "file_extension": ".py",
   "mimetype": "text/x-python",
   "name": "python",
   "nbconvert_exporter": "python",
   "pygments_lexer": "ipython3",
   "version": "3.7.4"
  }
 },
 "nbformat": 4,
 "nbformat_minor": 2
}
