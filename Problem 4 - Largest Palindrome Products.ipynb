{
 "cells": [
  {
   "cell_type": "code",
   "execution_count": 56,
   "metadata": {},
   "outputs": [],
   "source": [
    "def palindrome(text):\n",
    "    \n",
    "    string = text[::-1]\n",
    "    \n",
    "    if string == text:\n",
    "        return 'Palindrome'\n",
    "    else:\n",
    "        return 'Not Palindrome'"
   ]
  },
  {
   "cell_type": "code",
   "execution_count": 195,
   "metadata": {},
   "outputs": [],
   "source": [
    "def largest_palindrome_product(n):\n",
    "    anslist = []\n",
    "    anothe =[]\n",
    "    \n",
    "    if len(str(n)) == 3:\n",
    "        for i in range(100, n+1):\n",
    "            #print(i)\n",
    "            for j in range(100, n+1):\n",
    "                #print(j)\n",
    "                ans = i*j\n",
    "                #print(ans)\n",
    "                anslist.append(str(ans))\n",
    "    \n",
    "    for x in anslist:\n",
    "        if x == x[::-1]:\n",
    "            anothe.append(int(x))\n",
    "    \n",
    "    return max(anothe)"
   ]
  },
  {
   "cell_type": "code",
   "execution_count": 196,
   "metadata": {},
   "outputs": [
    {
     "data": {
      "text/plain": [
       "906609"
      ]
     },
     "execution_count": 196,
     "metadata": {},
     "output_type": "execute_result"
    }
   ],
   "source": [
    "largest_palindrome_product(999)"
   ]
  },
  {
   "cell_type": "code",
   "execution_count": null,
   "metadata": {},
   "outputs": [],
   "source": []
  }
 ],
 "metadata": {
  "kernelspec": {
   "display_name": "Python 3",
   "language": "python",
   "name": "python3"
  },
  "language_info": {
   "codemirror_mode": {
    "name": "ipython",
    "version": 3
   },
   "file_extension": ".py",
   "mimetype": "text/x-python",
   "name": "python",
   "nbconvert_exporter": "python",
   "pygments_lexer": "ipython3",
   "version": "3.7.4"
  }
 },
 "nbformat": 4,
 "nbformat_minor": 2
}
